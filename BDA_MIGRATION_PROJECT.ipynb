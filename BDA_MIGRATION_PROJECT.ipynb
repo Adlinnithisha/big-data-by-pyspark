{
  "nbformat": 4,
  "nbformat_minor": 0,
  "metadata": {
    "colab": {
      "provenance": [],
      "mount_file_id": "15hShbbDcxbRchj9rbEUqDLbU5U1mfpbB",
      "authorship_tag": "ABX9TyMpSe6M20LK8GlSESN3qfuN",
      "include_colab_link": true
    },
    "kernelspec": {
      "name": "python3",
      "display_name": "Python 3"
    },
    "language_info": {
      "name": "python"
    }
  },
  "cells": [
    {
      "cell_type": "markdown",
      "metadata": {
        "id": "view-in-github",
        "colab_type": "text"
      },
      "source": [
        "<a href=\"https://colab.research.google.com/github/Adlinnithisha/big-data-by-pyspark/blob/main/BDA_MIGRATION_PROJECT.ipynb\" target=\"_parent\"><img src=\"https://colab.research.google.com/assets/colab-badge.svg\" alt=\"Open In Colab\"/></a>"
      ]
    },
    {
      "cell_type": "markdown",
      "source": [
        "Introduction\n",
        "\n",
        "train the model to predict whether the migration process is final or provisional by using pyspark"
      ],
      "metadata": {
        "id": "sRNJpR-wYXCi"
      }
    },
    {
      "cell_type": "code",
      "execution_count": null,
      "metadata": {
        "id": "OucpOLRv0T-_",
        "colab": {
          "base_uri": "https://localhost:8080/"
        },
        "outputId": "a7ceb600-ccfc-494b-829c-cb6f5a6bd335"
      },
      "outputs": [
        {
          "output_type": "stream",
          "name": "stdout",
          "text": [
            "Collecting pyspark\n",
            "  Downloading pyspark-3.5.1.tar.gz (317.0 MB)\n",
            "\u001b[2K     \u001b[90m━━━━━━━━━━━━━━━━━━━━━━━━━━━━━━━━━━━━━━━━\u001b[0m \u001b[32m317.0/317.0 MB\u001b[0m \u001b[31m3.0 MB/s\u001b[0m eta \u001b[36m0:00:00\u001b[0m\n",
            "\u001b[?25h  Preparing metadata (setup.py) ... \u001b[?25l\u001b[?25hdone\n",
            "Requirement already satisfied: py4j==0.10.9.7 in /usr/local/lib/python3.10/dist-packages (from pyspark) (0.10.9.7)\n",
            "Building wheels for collected packages: pyspark\n",
            "  Building wheel for pyspark (setup.py) ... \u001b[?25l\u001b[?25hdone\n",
            "  Created wheel for pyspark: filename=pyspark-3.5.1-py2.py3-none-any.whl size=317488491 sha256=6f0f0cf1c87e21271ff55f7b98a3ef43da2d79605d06c79f90ac493e5e17a896\n",
            "  Stored in directory: /root/.cache/pip/wheels/80/1d/60/2c256ed38dddce2fdd93be545214a63e02fbd8d74fb0b7f3a6\n",
            "Successfully built pyspark\n",
            "Installing collected packages: pyspark\n",
            "Successfully installed pyspark-3.5.1\n"
          ]
        }
      ],
      "source": [
        "!pip install pyspark"
      ]
    },
    {
      "cell_type": "code",
      "source": [
        "from pyspark.sql import SparkSession\n",
        "from pyspark.sql import Row\n",
        "from pyspark.sql import functions as func\n",
        "from pyspark.sql.functions import round,avg\n",
        "from pyspark.sql.functions import col, unix_timestamp\n",
        "spark=SparkSession.builder.appName(\"International migration\").getOrCreate()"
      ],
      "metadata": {
        "id": "LZ5T8TgC3vI0"
      },
      "execution_count": null,
      "outputs": []
    },
    {
      "cell_type": "code",
      "source": [
        "df=spark.read.csv(\"/content/drive/MyDrive/international-migration-December-2023-citizenship-by-visa-by-country-of-last-permanent-residence.csv\",header=True,inferSchema=True)\n",
        "df.printSchema()\n",
        "df.show(truncate=False)"
      ],
      "metadata": {
        "colab": {
          "base_uri": "https://localhost:8080/"
        },
        "id": "HK7bPhww6BoM",
        "outputId": "44807a0d-d0c2-4bdd-dd13-6906a838ac7c"
      },
      "execution_count": null,
      "outputs": [
        {
          "output_type": "stream",
          "name": "stdout",
          "text": [
            "root\n",
            " |-- year_month: timestamp (nullable = true)\n",
            " |-- month_of_release: timestamp (nullable = true)\n",
            " |-- passenger_type: string (nullable = true)\n",
            " |-- direction: string (nullable = true)\n",
            " |-- citizenship: string (nullable = true)\n",
            " |-- visa: string (nullable = true)\n",
            " |-- country_of_residence: string (nullable = true)\n",
            " |-- estimate: integer (nullable = true)\n",
            " |-- standard_error: integer (nullable = true)\n",
            " |-- status: string (nullable = true)\n",
            "\n",
            "+-------------------+-------------------+-----------------+---------+-----------+--------------------------+--------------------+--------+--------------+------+\n",
            "|year_month         |month_of_release   |passenger_type   |direction|citizenship|visa                      |country_of_residence|estimate|standard_error|status|\n",
            "+-------------------+-------------------+-----------------+---------+-----------+--------------------------+--------------------+--------+--------------+------+\n",
            "|2001-09-01 00:00:00|2020-09-01 00:00:00|Long-term migrant|Arrivals |NZ         |NZ and Australian citizens|Afghanistan         |1       |0             |Final |\n",
            "|2002-03-01 00:00:00|2020-09-01 00:00:00|Long-term migrant|Arrivals |NZ         |NZ and Australian citizens|Afghanistan         |3       |0             |Final |\n",
            "|2005-01-01 00:00:00|2020-09-01 00:00:00|Long-term migrant|Arrivals |NZ         |NZ and Australian citizens|Afghanistan         |5       |0             |Final |\n",
            "|2005-04-01 00:00:00|2020-09-01 00:00:00|Long-term migrant|Arrivals |NZ         |NZ and Australian citizens|Afghanistan         |1       |0             |Final |\n",
            "|2005-07-01 00:00:00|2020-09-01 00:00:00|Long-term migrant|Arrivals |NZ         |NZ and Australian citizens|Afghanistan         |1       |0             |Final |\n",
            "|2005-08-01 00:00:00|2020-09-01 00:00:00|Long-term migrant|Arrivals |NZ         |NZ and Australian citizens|Afghanistan         |2       |0             |Final |\n",
            "|2005-10-01 00:00:00|2020-09-01 00:00:00|Long-term migrant|Arrivals |NZ         |NZ and Australian citizens|Afghanistan         |2       |0             |Final |\n",
            "|2006-02-01 00:00:00|2020-09-01 00:00:00|Long-term migrant|Arrivals |NZ         |NZ and Australian citizens|Afghanistan         |1       |0             |Final |\n",
            "|2006-03-01 00:00:00|2020-09-01 00:00:00|Long-term migrant|Arrivals |NZ         |NZ and Australian citizens|Afghanistan         |1       |0             |Final |\n",
            "|2006-05-01 00:00:00|2020-09-01 00:00:00|Long-term migrant|Arrivals |NZ         |NZ and Australian citizens|Afghanistan         |1       |0             |Final |\n",
            "|2006-07-01 00:00:00|2020-09-01 00:00:00|Long-term migrant|Arrivals |NZ         |NZ and Australian citizens|Afghanistan         |1       |0             |Final |\n",
            "|2006-08-01 00:00:00|2020-09-01 00:00:00|Long-term migrant|Arrivals |NZ         |NZ and Australian citizens|Afghanistan         |1       |0             |Final |\n",
            "|2006-09-01 00:00:00|2020-09-01 00:00:00|Long-term migrant|Arrivals |NZ         |NZ and Australian citizens|Afghanistan         |1       |0             |Final |\n",
            "|2006-11-01 00:00:00|2020-09-01 00:00:00|Long-term migrant|Arrivals |NZ         |NZ and Australian citizens|Afghanistan         |1       |0             |Final |\n",
            "|2006-12-01 00:00:00|2020-09-01 00:00:00|Long-term migrant|Arrivals |NZ         |NZ and Australian citizens|Afghanistan         |1       |0             |Final |\n",
            "|2007-01-01 00:00:00|2020-09-01 00:00:00|Long-term migrant|Arrivals |NZ         |NZ and Australian citizens|Afghanistan         |4       |0             |Final |\n",
            "|2007-07-01 00:00:00|2020-09-01 00:00:00|Long-term migrant|Arrivals |NZ         |NZ and Australian citizens|Afghanistan         |1       |0             |Final |\n",
            "|2007-08-01 00:00:00|2020-09-01 00:00:00|Long-term migrant|Arrivals |NZ         |NZ and Australian citizens|Afghanistan         |3       |0             |Final |\n",
            "|2007-10-01 00:00:00|2020-09-01 00:00:00|Long-term migrant|Arrivals |NZ         |NZ and Australian citizens|Afghanistan         |1       |0             |Final |\n",
            "|2007-12-01 00:00:00|2020-09-01 00:00:00|Long-term migrant|Arrivals |NZ         |NZ and Australian citizens|Afghanistan         |2       |0             |Final |\n",
            "+-------------------+-------------------+-----------------+---------+-----------+--------------------------+--------------------+--------+--------------+------+\n",
            "only showing top 20 rows\n",
            "\n"
          ]
        }
      ]
    },
    {
      "cell_type": "markdown",
      "source": [
        " spark action"
      ],
      "metadata": {
        "id": "r2O2Q6k_btq2"
      }
    },
    {
      "cell_type": "code",
      "source": [
        "df.count()"
      ],
      "metadata": {
        "colab": {
          "base_uri": "https://localhost:8080/"
        },
        "id": "H9xqJt5m8j2F",
        "outputId": "e806db7e-054a-42fa-e58f-c456a8bae175"
      },
      "execution_count": null,
      "outputs": [
        {
          "output_type": "execute_result",
          "data": {
            "text/plain": [
              "329132"
            ]
          },
          "metadata": {},
          "execution_count": 4
        }
      ]
    },
    {
      "cell_type": "code",
      "source": [
        "df.describe().show()"
      ],
      "metadata": {
        "colab": {
          "base_uri": "https://localhost:8080/"
        },
        "id": "bUSN9CZ59JLm",
        "outputId": "6daf9d09-5a4e-48da-f21f-bbf986cf67c1"
      },
      "execution_count": null,
      "outputs": [
        {
          "output_type": "stream",
          "name": "stdout",
          "text": [
            "+-------+-----------------+---------+-----------+--------------------+--------------------+-----------------+-----------------+-----------+\n",
            "|summary|   passenger_type|direction|citizenship|                visa|country_of_residence|         estimate|   standard_error|     status|\n",
            "+-------+-----------------+---------+-----------+--------------------+--------------------+-----------------+-----------------+-----------+\n",
            "|  count|           329132|   329132|     329132|              329132|              329132|           329132|           329132|     329132|\n",
            "|   mean|             NULL|     NULL|       NULL|                NULL|                NULL|99.21397190185093|0.295097407726991|       NULL|\n",
            "| stddev|             NULL|     NULL|       NULL|                NULL|                NULL|535.8028341130496|4.442546069239412|       NULL|\n",
            "|    min|Long-term migrant| Arrivals|         NZ|NZ and Australian...|         Afghanistan|                0|                0|      Final|\n",
            "|    max|Long-term migrant| Arrivals|     non-NZ|                Work|            Zimbabwe|            24210|              503|Provisional|\n",
            "+-------+-----------------+---------+-----------+--------------------+--------------------+-----------------+-----------------+-----------+\n",
            "\n"
          ]
        }
      ]
    },
    {
      "cell_type": "markdown",
      "source": [
        " spark Transformation"
      ],
      "metadata": {
        "id": "7lVuzLlEbgmN"
      }
    },
    {
      "cell_type": "code",
      "source": [
        "x=df.groupBy('country_of_residence').count()\n",
        "x.show()"
      ],
      "metadata": {
        "colab": {
          "base_uri": "https://localhost:8080/"
        },
        "id": "nJjZXzXEIXKM",
        "outputId": "bc8bc55a-32fd-497d-d1a8-988b5868ff01"
      },
      "execution_count": null,
      "outputs": [
        {
          "output_type": "stream",
          "name": "stdout",
          "text": [
            "+--------------------+-----+\n",
            "|country_of_residence|count|\n",
            "+--------------------+-----+\n",
            "|                Chad|  214|\n",
            "|            Anguilla|  154|\n",
            "|            Paraguay|  402|\n",
            "|              Russia| 3477|\n",
            "|               Yemen|  390|\n",
            "|British Indian Oc...|   12|\n",
            "|Congo, the Democr...|  153|\n",
            "|             Senegal|  194|\n",
            "|          Cabo Verde|   34|\n",
            "|              Sweden| 2883|\n",
            "|             Tokelau| 1121|\n",
            "|            Kiribati| 2297|\n",
            "|     Samoa, American| 1856|\n",
            "|              Guyana|  295|\n",
            "|             Eritrea|  249|\n",
            "|         Philippines| 3893|\n",
            "|  St Kitts and Nevis|  131|\n",
            "|            Djibouti|   94|\n",
            "|      Norfolk Island|  806|\n",
            "|               Tonga| 3812|\n",
            "+--------------------+-----+\n",
            "only showing top 20 rows\n",
            "\n"
          ]
        }
      ]
    },
    {
      "cell_type": "code",
      "source": [
        "df = df.withColumn(\"year_month_sec\", unix_timestamp(\"year_month\")).withColumn(\"month_of_release_sec\", unix_timestamp(\"month_of_release\"))"
      ],
      "metadata": {
        "id": "1Wg0yPd3-CCH"
      },
      "execution_count": null,
      "outputs": []
    },
    {
      "cell_type": "markdown",
      "source": [
        "time_gap_second is the difference of year_month and month_of_release\n"
      ],
      "metadata": {
        "id": "RTP5tNBw_uRh"
      }
    },
    {
      "cell_type": "code",
      "source": [
        "df = df.withColumn(\"time_gap_seconds\", col(\"year_month_sec\") - col(\"month_of_release_sec\"))"
      ],
      "metadata": {
        "id": "x5ysonGJrgBK"
      },
      "execution_count": null,
      "outputs": []
    },
    {
      "cell_type": "code",
      "source": [
        "df.show()"
      ],
      "metadata": {
        "colab": {
          "base_uri": "https://localhost:8080/"
        },
        "id": "p4J84rRI_8XA",
        "outputId": "5ea18795-e181-4b2f-8653-445d59244fe8"
      },
      "execution_count": null,
      "outputs": [
        {
          "output_type": "stream",
          "name": "stdout",
          "text": [
            "+-------------------+-------------------+-----------------+---------+-----------+--------------------+--------------------+--------+--------------+------+--------------+--------------------+----------------+\n",
            "|         year_month|   month_of_release|   passenger_type|direction|citizenship|                visa|country_of_residence|estimate|standard_error|status|year_month_sec|month_of_release_sec|time_gap_seconds|\n",
            "+-------------------+-------------------+-----------------+---------+-----------+--------------------+--------------------+--------+--------------+------+--------------+--------------------+----------------+\n",
            "|2001-09-01 00:00:00|2020-09-01 00:00:00|Long-term migrant| Arrivals|         NZ|NZ and Australian...|         Afghanistan|       1|             0| Final|     999302400|          1598918400|      -599616000|\n",
            "|2002-03-01 00:00:00|2020-09-01 00:00:00|Long-term migrant| Arrivals|         NZ|NZ and Australian...|         Afghanistan|       3|             0| Final|    1014940800|          1598918400|      -583977600|\n",
            "|2005-01-01 00:00:00|2020-09-01 00:00:00|Long-term migrant| Arrivals|         NZ|NZ and Australian...|         Afghanistan|       5|             0| Final|    1104537600|          1598918400|      -494380800|\n",
            "|2005-04-01 00:00:00|2020-09-01 00:00:00|Long-term migrant| Arrivals|         NZ|NZ and Australian...|         Afghanistan|       1|             0| Final|    1112313600|          1598918400|      -486604800|\n",
            "|2005-07-01 00:00:00|2020-09-01 00:00:00|Long-term migrant| Arrivals|         NZ|NZ and Australian...|         Afghanistan|       1|             0| Final|    1120176000|          1598918400|      -478742400|\n",
            "|2005-08-01 00:00:00|2020-09-01 00:00:00|Long-term migrant| Arrivals|         NZ|NZ and Australian...|         Afghanistan|       2|             0| Final|    1122854400|          1598918400|      -476064000|\n",
            "|2005-10-01 00:00:00|2020-09-01 00:00:00|Long-term migrant| Arrivals|         NZ|NZ and Australian...|         Afghanistan|       2|             0| Final|    1128124800|          1598918400|      -470793600|\n",
            "|2006-02-01 00:00:00|2020-09-01 00:00:00|Long-term migrant| Arrivals|         NZ|NZ and Australian...|         Afghanistan|       1|             0| Final|    1138752000|          1598918400|      -460166400|\n",
            "|2006-03-01 00:00:00|2020-09-01 00:00:00|Long-term migrant| Arrivals|         NZ|NZ and Australian...|         Afghanistan|       1|             0| Final|    1141171200|          1598918400|      -457747200|\n",
            "|2006-05-01 00:00:00|2020-09-01 00:00:00|Long-term migrant| Arrivals|         NZ|NZ and Australian...|         Afghanistan|       1|             0| Final|    1146441600|          1598918400|      -452476800|\n",
            "|2006-07-01 00:00:00|2020-09-01 00:00:00|Long-term migrant| Arrivals|         NZ|NZ and Australian...|         Afghanistan|       1|             0| Final|    1151712000|          1598918400|      -447206400|\n",
            "|2006-08-01 00:00:00|2020-09-01 00:00:00|Long-term migrant| Arrivals|         NZ|NZ and Australian...|         Afghanistan|       1|             0| Final|    1154390400|          1598918400|      -444528000|\n",
            "|2006-09-01 00:00:00|2020-09-01 00:00:00|Long-term migrant| Arrivals|         NZ|NZ and Australian...|         Afghanistan|       1|             0| Final|    1157068800|          1598918400|      -441849600|\n",
            "|2006-11-01 00:00:00|2020-09-01 00:00:00|Long-term migrant| Arrivals|         NZ|NZ and Australian...|         Afghanistan|       1|             0| Final|    1162339200|          1598918400|      -436579200|\n",
            "|2006-12-01 00:00:00|2020-09-01 00:00:00|Long-term migrant| Arrivals|         NZ|NZ and Australian...|         Afghanistan|       1|             0| Final|    1164931200|          1598918400|      -433987200|\n",
            "|2007-01-01 00:00:00|2020-09-01 00:00:00|Long-term migrant| Arrivals|         NZ|NZ and Australian...|         Afghanistan|       4|             0| Final|    1167609600|          1598918400|      -431308800|\n",
            "|2007-07-01 00:00:00|2020-09-01 00:00:00|Long-term migrant| Arrivals|         NZ|NZ and Australian...|         Afghanistan|       1|             0| Final|    1183248000|          1598918400|      -415670400|\n",
            "|2007-08-01 00:00:00|2020-09-01 00:00:00|Long-term migrant| Arrivals|         NZ|NZ and Australian...|         Afghanistan|       3|             0| Final|    1185926400|          1598918400|      -412992000|\n",
            "|2007-10-01 00:00:00|2020-09-01 00:00:00|Long-term migrant| Arrivals|         NZ|NZ and Australian...|         Afghanistan|       1|             0| Final|    1191196800|          1598918400|      -407721600|\n",
            "|2007-12-01 00:00:00|2020-09-01 00:00:00|Long-term migrant| Arrivals|         NZ|NZ and Australian...|         Afghanistan|       2|             0| Final|    1196467200|          1598918400|      -402451200|\n",
            "+-------------------+-------------------+-----------------+---------+-----------+--------------------+--------------------+--------+--------------+------+--------------+--------------------+----------------+\n",
            "only showing top 20 rows\n",
            "\n"
          ]
        }
      ]
    },
    {
      "cell_type": "markdown",
      "source": [
        "spark SQL"
      ],
      "metadata": {
        "id": "1PfdVdeCce_8"
      }
    },
    {
      "cell_type": "code",
      "source": [
        "df.createOrReplaceTempView(\"timestamps\")"
      ],
      "metadata": {
        "id": "-QgRlX0aAyxr"
      },
      "execution_count": null,
      "outputs": []
    },
    {
      "cell_type": "code",
      "source": [
        "df = spark.sql(\"SELECT *,abs( time_gap_seconds / 86400) AS time_gap_days FROM timestamps\")\n",
        "df.show()"
      ],
      "metadata": {
        "colab": {
          "base_uri": "https://localhost:8080/"
        },
        "id": "z8JWny1j__w3",
        "outputId": "ea7aadaa-a8ea-413f-f889-f38b9dff4523"
      },
      "execution_count": null,
      "outputs": [
        {
          "output_type": "stream",
          "name": "stdout",
          "text": [
            "+-------------------+-------------------+-----------------+---------+-----------+--------------------+--------------------+--------+--------------+------+--------------+--------------------+----------------+-------------+\n",
            "|         year_month|   month_of_release|   passenger_type|direction|citizenship|                visa|country_of_residence|estimate|standard_error|status|year_month_sec|month_of_release_sec|time_gap_seconds|time_gap_days|\n",
            "+-------------------+-------------------+-----------------+---------+-----------+--------------------+--------------------+--------+--------------+------+--------------+--------------------+----------------+-------------+\n",
            "|2001-09-01 00:00:00|2020-09-01 00:00:00|Long-term migrant| Arrivals|         NZ|NZ and Australian...|         Afghanistan|       1|             0| Final|     999302400|          1598918400|      -599616000|       6940.0|\n",
            "|2002-03-01 00:00:00|2020-09-01 00:00:00|Long-term migrant| Arrivals|         NZ|NZ and Australian...|         Afghanistan|       3|             0| Final|    1014940800|          1598918400|      -583977600|       6759.0|\n",
            "|2005-01-01 00:00:00|2020-09-01 00:00:00|Long-term migrant| Arrivals|         NZ|NZ and Australian...|         Afghanistan|       5|             0| Final|    1104537600|          1598918400|      -494380800|       5722.0|\n",
            "|2005-04-01 00:00:00|2020-09-01 00:00:00|Long-term migrant| Arrivals|         NZ|NZ and Australian...|         Afghanistan|       1|             0| Final|    1112313600|          1598918400|      -486604800|       5632.0|\n",
            "|2005-07-01 00:00:00|2020-09-01 00:00:00|Long-term migrant| Arrivals|         NZ|NZ and Australian...|         Afghanistan|       1|             0| Final|    1120176000|          1598918400|      -478742400|       5541.0|\n",
            "|2005-08-01 00:00:00|2020-09-01 00:00:00|Long-term migrant| Arrivals|         NZ|NZ and Australian...|         Afghanistan|       2|             0| Final|    1122854400|          1598918400|      -476064000|       5510.0|\n",
            "|2005-10-01 00:00:00|2020-09-01 00:00:00|Long-term migrant| Arrivals|         NZ|NZ and Australian...|         Afghanistan|       2|             0| Final|    1128124800|          1598918400|      -470793600|       5449.0|\n",
            "|2006-02-01 00:00:00|2020-09-01 00:00:00|Long-term migrant| Arrivals|         NZ|NZ and Australian...|         Afghanistan|       1|             0| Final|    1138752000|          1598918400|      -460166400|       5326.0|\n",
            "|2006-03-01 00:00:00|2020-09-01 00:00:00|Long-term migrant| Arrivals|         NZ|NZ and Australian...|         Afghanistan|       1|             0| Final|    1141171200|          1598918400|      -457747200|       5298.0|\n",
            "|2006-05-01 00:00:00|2020-09-01 00:00:00|Long-term migrant| Arrivals|         NZ|NZ and Australian...|         Afghanistan|       1|             0| Final|    1146441600|          1598918400|      -452476800|       5237.0|\n",
            "|2006-07-01 00:00:00|2020-09-01 00:00:00|Long-term migrant| Arrivals|         NZ|NZ and Australian...|         Afghanistan|       1|             0| Final|    1151712000|          1598918400|      -447206400|       5176.0|\n",
            "|2006-08-01 00:00:00|2020-09-01 00:00:00|Long-term migrant| Arrivals|         NZ|NZ and Australian...|         Afghanistan|       1|             0| Final|    1154390400|          1598918400|      -444528000|       5145.0|\n",
            "|2006-09-01 00:00:00|2020-09-01 00:00:00|Long-term migrant| Arrivals|         NZ|NZ and Australian...|         Afghanistan|       1|             0| Final|    1157068800|          1598918400|      -441849600|       5114.0|\n",
            "|2006-11-01 00:00:00|2020-09-01 00:00:00|Long-term migrant| Arrivals|         NZ|NZ and Australian...|         Afghanistan|       1|             0| Final|    1162339200|          1598918400|      -436579200|       5053.0|\n",
            "|2006-12-01 00:00:00|2020-09-01 00:00:00|Long-term migrant| Arrivals|         NZ|NZ and Australian...|         Afghanistan|       1|             0| Final|    1164931200|          1598918400|      -433987200|       5023.0|\n",
            "|2007-01-01 00:00:00|2020-09-01 00:00:00|Long-term migrant| Arrivals|         NZ|NZ and Australian...|         Afghanistan|       4|             0| Final|    1167609600|          1598918400|      -431308800|       4992.0|\n",
            "|2007-07-01 00:00:00|2020-09-01 00:00:00|Long-term migrant| Arrivals|         NZ|NZ and Australian...|         Afghanistan|       1|             0| Final|    1183248000|          1598918400|      -415670400|       4811.0|\n",
            "|2007-08-01 00:00:00|2020-09-01 00:00:00|Long-term migrant| Arrivals|         NZ|NZ and Australian...|         Afghanistan|       3|             0| Final|    1185926400|          1598918400|      -412992000|       4780.0|\n",
            "|2007-10-01 00:00:00|2020-09-01 00:00:00|Long-term migrant| Arrivals|         NZ|NZ and Australian...|         Afghanistan|       1|             0| Final|    1191196800|          1598918400|      -407721600|       4719.0|\n",
            "|2007-12-01 00:00:00|2020-09-01 00:00:00|Long-term migrant| Arrivals|         NZ|NZ and Australian...|         Afghanistan|       2|             0| Final|    1196467200|          1598918400|      -402451200|       4658.0|\n",
            "+-------------------+-------------------+-----------------+---------+-----------+--------------------+--------------------+--------+--------------+------+--------------+--------------------+----------------+-------------+\n",
            "only showing top 20 rows\n",
            "\n"
          ]
        }
      ]
    },
    {
      "cell_type": "code",
      "source": [
        "df.columns\n"
      ],
      "metadata": {
        "id": "QLrar4y0Al5s",
        "colab": {
          "base_uri": "https://localhost:8080/"
        },
        "outputId": "f96efeee-7a1c-4515-8151-d0d759a97fc3"
      },
      "execution_count": null,
      "outputs": [
        {
          "output_type": "execute_result",
          "data": {
            "text/plain": [
              "['year_month',\n",
              " 'month_of_release',\n",
              " 'passenger_type',\n",
              " 'direction',\n",
              " 'citizenship',\n",
              " 'visa',\n",
              " 'country_of_residence',\n",
              " 'estimate',\n",
              " 'standard_error',\n",
              " 'status',\n",
              " 'year_month_sec',\n",
              " 'month_of_release_sec',\n",
              " 'time_gap_seconds',\n",
              " 'time_gap_days']"
            ]
          },
          "metadata": {},
          "execution_count": 11
        }
      ]
    },
    {
      "cell_type": "markdown",
      "source": [
        "spark ML"
      ],
      "metadata": {
        "id": "H24fzwZlckHr"
      }
    },
    {
      "cell_type": "code",
      "source": [
        "from pyspark.ml.classification import LogisticRegression\n",
        "from pyspark.ml.feature import VectorAssembler\n",
        "from pyspark.ml.feature import StringIndexer"
      ],
      "metadata": {
        "id": "JDjsK1PkCFvt"
      },
      "execution_count": null,
      "outputs": []
    },
    {
      "cell_type": "code",
      "source": [
        "inputcol=['passenger_type','direction','citizenship','visa','country_of_residence','estimate','standard_error','status','time_gap_days']"
      ],
      "metadata": {
        "id": "mnk8c916ChAg"
      },
      "execution_count": null,
      "outputs": []
    },
    {
      "cell_type": "code",
      "source": [
        "indexer=StringIndexer(inputCols=['passenger_type','direction','citizenship','visa','country_of_residence','status'],outputCols=['passenger_index','direction_index','citizenship_index','visa_index','country_residence_index','status_index'])\n",
        "indexed=indexer.fit(df).transform(df)\n",
        "indexed.show()"
      ],
      "metadata": {
        "colab": {
          "base_uri": "https://localhost:8080/"
        },
        "id": "NAmCzv8lHGvf",
        "outputId": "67032133-b62c-4c8f-c0bd-927d6a69278b"
      },
      "execution_count": null,
      "outputs": [
        {
          "output_type": "stream",
          "name": "stdout",
          "text": [
            "+-------------------+-------------------+-----------------+---------+-----------+--------------------+--------------------+--------+--------------+------+--------------+--------------------+----------------+-------------+---------------+---------------+-----------------+----------+-----------------------+------------+\n",
            "|         year_month|   month_of_release|   passenger_type|direction|citizenship|                visa|country_of_residence|estimate|standard_error|status|year_month_sec|month_of_release_sec|time_gap_seconds|time_gap_days|passenger_index|direction_index|citizenship_index|visa_index|country_residence_index|status_index|\n",
            "+-------------------+-------------------+-----------------+---------+-----------+--------------------+--------------------+--------+--------------+------+--------------+--------------------+----------------+-------------+---------------+---------------+-----------------+----------+-----------------------+------------+\n",
            "|2001-09-01 00:00:00|2020-09-01 00:00:00|Long-term migrant| Arrivals|         NZ|NZ and Australian...|         Afghanistan|       1|             0| Final|     999302400|          1598918400|      -599616000|       6940.0|            0.0|            0.0|              2.0|       1.0|                   82.0|         0.0|\n",
            "|2002-03-01 00:00:00|2020-09-01 00:00:00|Long-term migrant| Arrivals|         NZ|NZ and Australian...|         Afghanistan|       3|             0| Final|    1014940800|          1598918400|      -583977600|       6759.0|            0.0|            0.0|              2.0|       1.0|                   82.0|         0.0|\n",
            "|2005-01-01 00:00:00|2020-09-01 00:00:00|Long-term migrant| Arrivals|         NZ|NZ and Australian...|         Afghanistan|       5|             0| Final|    1104537600|          1598918400|      -494380800|       5722.0|            0.0|            0.0|              2.0|       1.0|                   82.0|         0.0|\n",
            "|2005-04-01 00:00:00|2020-09-01 00:00:00|Long-term migrant| Arrivals|         NZ|NZ and Australian...|         Afghanistan|       1|             0| Final|    1112313600|          1598918400|      -486604800|       5632.0|            0.0|            0.0|              2.0|       1.0|                   82.0|         0.0|\n",
            "|2005-07-01 00:00:00|2020-09-01 00:00:00|Long-term migrant| Arrivals|         NZ|NZ and Australian...|         Afghanistan|       1|             0| Final|    1120176000|          1598918400|      -478742400|       5541.0|            0.0|            0.0|              2.0|       1.0|                   82.0|         0.0|\n",
            "|2005-08-01 00:00:00|2020-09-01 00:00:00|Long-term migrant| Arrivals|         NZ|NZ and Australian...|         Afghanistan|       2|             0| Final|    1122854400|          1598918400|      -476064000|       5510.0|            0.0|            0.0|              2.0|       1.0|                   82.0|         0.0|\n",
            "|2005-10-01 00:00:00|2020-09-01 00:00:00|Long-term migrant| Arrivals|         NZ|NZ and Australian...|         Afghanistan|       2|             0| Final|    1128124800|          1598918400|      -470793600|       5449.0|            0.0|            0.0|              2.0|       1.0|                   82.0|         0.0|\n",
            "|2006-02-01 00:00:00|2020-09-01 00:00:00|Long-term migrant| Arrivals|         NZ|NZ and Australian...|         Afghanistan|       1|             0| Final|    1138752000|          1598918400|      -460166400|       5326.0|            0.0|            0.0|              2.0|       1.0|                   82.0|         0.0|\n",
            "|2006-03-01 00:00:00|2020-09-01 00:00:00|Long-term migrant| Arrivals|         NZ|NZ and Australian...|         Afghanistan|       1|             0| Final|    1141171200|          1598918400|      -457747200|       5298.0|            0.0|            0.0|              2.0|       1.0|                   82.0|         0.0|\n",
            "|2006-05-01 00:00:00|2020-09-01 00:00:00|Long-term migrant| Arrivals|         NZ|NZ and Australian...|         Afghanistan|       1|             0| Final|    1146441600|          1598918400|      -452476800|       5237.0|            0.0|            0.0|              2.0|       1.0|                   82.0|         0.0|\n",
            "|2006-07-01 00:00:00|2020-09-01 00:00:00|Long-term migrant| Arrivals|         NZ|NZ and Australian...|         Afghanistan|       1|             0| Final|    1151712000|          1598918400|      -447206400|       5176.0|            0.0|            0.0|              2.0|       1.0|                   82.0|         0.0|\n",
            "|2006-08-01 00:00:00|2020-09-01 00:00:00|Long-term migrant| Arrivals|         NZ|NZ and Australian...|         Afghanistan|       1|             0| Final|    1154390400|          1598918400|      -444528000|       5145.0|            0.0|            0.0|              2.0|       1.0|                   82.0|         0.0|\n",
            "|2006-09-01 00:00:00|2020-09-01 00:00:00|Long-term migrant| Arrivals|         NZ|NZ and Australian...|         Afghanistan|       1|             0| Final|    1157068800|          1598918400|      -441849600|       5114.0|            0.0|            0.0|              2.0|       1.0|                   82.0|         0.0|\n",
            "|2006-11-01 00:00:00|2020-09-01 00:00:00|Long-term migrant| Arrivals|         NZ|NZ and Australian...|         Afghanistan|       1|             0| Final|    1162339200|          1598918400|      -436579200|       5053.0|            0.0|            0.0|              2.0|       1.0|                   82.0|         0.0|\n",
            "|2006-12-01 00:00:00|2020-09-01 00:00:00|Long-term migrant| Arrivals|         NZ|NZ and Australian...|         Afghanistan|       1|             0| Final|    1164931200|          1598918400|      -433987200|       5023.0|            0.0|            0.0|              2.0|       1.0|                   82.0|         0.0|\n",
            "|2007-01-01 00:00:00|2020-09-01 00:00:00|Long-term migrant| Arrivals|         NZ|NZ and Australian...|         Afghanistan|       4|             0| Final|    1167609600|          1598918400|      -431308800|       4992.0|            0.0|            0.0|              2.0|       1.0|                   82.0|         0.0|\n",
            "|2007-07-01 00:00:00|2020-09-01 00:00:00|Long-term migrant| Arrivals|         NZ|NZ and Australian...|         Afghanistan|       1|             0| Final|    1183248000|          1598918400|      -415670400|       4811.0|            0.0|            0.0|              2.0|       1.0|                   82.0|         0.0|\n",
            "|2007-08-01 00:00:00|2020-09-01 00:00:00|Long-term migrant| Arrivals|         NZ|NZ and Australian...|         Afghanistan|       3|             0| Final|    1185926400|          1598918400|      -412992000|       4780.0|            0.0|            0.0|              2.0|       1.0|                   82.0|         0.0|\n",
            "|2007-10-01 00:00:00|2020-09-01 00:00:00|Long-term migrant| Arrivals|         NZ|NZ and Australian...|         Afghanistan|       1|             0| Final|    1191196800|          1598918400|      -407721600|       4719.0|            0.0|            0.0|              2.0|       1.0|                   82.0|         0.0|\n",
            "|2007-12-01 00:00:00|2020-09-01 00:00:00|Long-term migrant| Arrivals|         NZ|NZ and Australian...|         Afghanistan|       2|             0| Final|    1196467200|          1598918400|      -402451200|       4658.0|            0.0|            0.0|              2.0|       1.0|                   82.0|         0.0|\n",
            "+-------------------+-------------------+-----------------+---------+-----------+--------------------+--------------------+--------+--------------+------+--------------+--------------------+----------------+-------------+---------------+---------------+-----------------+----------+-----------------------+------------+\n",
            "only showing top 20 rows\n",
            "\n"
          ]
        }
      ]
    },
    {
      "cell_type": "code",
      "source": [
        "assembler=VectorAssembler(inputCols=[\"time_gap_days\",\"passenger_index\",\"direction_index\",\"citizenship_index\",\"visa_index\",\"country_residence_index\"],outputCol='features')\n",
        "output=assembler.transform(indexed)"
      ],
      "metadata": {
        "id": "UgohMKnKN9cT"
      },
      "execution_count": null,
      "outputs": []
    },
    {
      "cell_type": "code",
      "source": [
        "output.printSchema()"
      ],
      "metadata": {
        "colab": {
          "base_uri": "https://localhost:8080/"
        },
        "id": "doRZIwSaQgSt",
        "outputId": "9ed86bf7-e38f-4b1b-e022-8cca34a6e570"
      },
      "execution_count": null,
      "outputs": [
        {
          "output_type": "stream",
          "name": "stdout",
          "text": [
            "root\n",
            " |-- year_month: timestamp (nullable = true)\n",
            " |-- month_of_release: timestamp (nullable = true)\n",
            " |-- passenger_type: string (nullable = true)\n",
            " |-- direction: string (nullable = true)\n",
            " |-- citizenship: string (nullable = true)\n",
            " |-- visa: string (nullable = true)\n",
            " |-- country_of_residence: string (nullable = true)\n",
            " |-- estimate: integer (nullable = true)\n",
            " |-- standard_error: integer (nullable = true)\n",
            " |-- status: string (nullable = true)\n",
            " |-- year_month_sec: long (nullable = true)\n",
            " |-- month_of_release_sec: long (nullable = true)\n",
            " |-- time_gap_seconds: long (nullable = true)\n",
            " |-- time_gap_days: double (nullable = true)\n",
            " |-- passenger_index: double (nullable = false)\n",
            " |-- direction_index: double (nullable = false)\n",
            " |-- citizenship_index: double (nullable = false)\n",
            " |-- visa_index: double (nullable = false)\n",
            " |-- country_residence_index: double (nullable = false)\n",
            " |-- status_index: double (nullable = false)\n",
            " |-- features: vector (nullable = true)\n",
            "\n"
          ]
        }
      ]
    },
    {
      "cell_type": "code",
      "source": [
        "final_df=output.select('features','status_index')\n",
        "final_df.show()"
      ],
      "metadata": {
        "colab": {
          "base_uri": "https://localhost:8080/"
        },
        "id": "-8HbUhNfQwhW",
        "outputId": "d56c441a-75b0-453d-924c-094e68273e9a"
      },
      "execution_count": null,
      "outputs": [
        {
          "output_type": "stream",
          "name": "stdout",
          "text": [
            "+--------------------+------------+\n",
            "|            features|status_index|\n",
            "+--------------------+------------+\n",
            "|[6940.0,0.0,0.0,2...|         0.0|\n",
            "|[6759.0,0.0,0.0,2...|         0.0|\n",
            "|[5722.0,0.0,0.0,2...|         0.0|\n",
            "|[5632.0,0.0,0.0,2...|         0.0|\n",
            "|[5541.0,0.0,0.0,2...|         0.0|\n",
            "|[5510.0,0.0,0.0,2...|         0.0|\n",
            "|[5449.0,0.0,0.0,2...|         0.0|\n",
            "|[5326.0,0.0,0.0,2...|         0.0|\n",
            "|[5298.0,0.0,0.0,2...|         0.0|\n",
            "|[5237.0,0.0,0.0,2...|         0.0|\n",
            "|[5176.0,0.0,0.0,2...|         0.0|\n",
            "|[5145.0,0.0,0.0,2...|         0.0|\n",
            "|[5114.0,0.0,0.0,2...|         0.0|\n",
            "|[5053.0,0.0,0.0,2...|         0.0|\n",
            "|[5023.0,0.0,0.0,2...|         0.0|\n",
            "|[4992.0,0.0,0.0,2...|         0.0|\n",
            "|[4811.0,0.0,0.0,2...|         0.0|\n",
            "|[4780.0,0.0,0.0,2...|         0.0|\n",
            "|[4719.0,0.0,0.0,2...|         0.0|\n",
            "|[4658.0,0.0,0.0,2...|         0.0|\n",
            "+--------------------+------------+\n",
            "only showing top 20 rows\n",
            "\n"
          ]
        }
      ]
    },
    {
      "cell_type": "code",
      "source": [
        "train_df,test_df=final_df.randomSplit([0.7,0.3])"
      ],
      "metadata": {
        "id": "T6pKgo7-RPil"
      },
      "execution_count": null,
      "outputs": []
    },
    {
      "cell_type": "code",
      "source": [
        "train_df.describe().show(2)"
      ],
      "metadata": {
        "colab": {
          "base_uri": "https://localhost:8080/"
        },
        "id": "TCsDbnroRp3P",
        "outputId": "8b89a8eb-4b2f-4182-f1ef-7229e9b676f0"
      },
      "execution_count": null,
      "outputs": [
        {
          "output_type": "stream",
          "name": "stdout",
          "text": [
            "+-------+-------------------+\n",
            "|summary|       status_index|\n",
            "+-------+-------------------+\n",
            "|  count|             230349|\n",
            "|   mean|0.09733925478295977|\n",
            "+-------+-------------------+\n",
            "only showing top 2 rows\n",
            "\n"
          ]
        }
      ]
    },
    {
      "cell_type": "code",
      "source": [
        "test_df.describe().show()"
      ],
      "metadata": {
        "colab": {
          "base_uri": "https://localhost:8080/"
        },
        "id": "8i-KQkJpRvLJ",
        "outputId": "7cb15c69-0f2e-4faa-e33d-67106de59480"
      },
      "execution_count": null,
      "outputs": [
        {
          "output_type": "stream",
          "name": "stdout",
          "text": [
            "+-------+-------------------+\n",
            "|summary|       status_index|\n",
            "+-------+-------------------+\n",
            "|  count|              98783|\n",
            "|   mean|0.09732443841551684|\n",
            "| stddev|0.29640054227160456|\n",
            "|    min|                0.0|\n",
            "|    max|                1.0|\n",
            "+-------+-------------------+\n",
            "\n"
          ]
        }
      ]
    },
    {
      "cell_type": "code",
      "source": [
        "from pyspark.ml.evaluation import BinaryClassificationEvaluator,MulticlassClassificationEvaluator"
      ],
      "metadata": {
        "id": "r8Ot5YWrSCwL"
      },
      "execution_count": null,
      "outputs": []
    },
    {
      "cell_type": "code",
      "source": [
        "binaryEvaluator=BinaryClassificationEvaluator(rawPredictionCol='prediction',labelCol='status_index')\n",
        "multiclassEvaluator=MulticlassClassificationEvaluator(labelCol='status_index',metricName=\"precisionByLabel\")"
      ],
      "metadata": {
        "id": "YqfvGtVhUQHc"
      },
      "execution_count": null,
      "outputs": []
    },
    {
      "cell_type": "markdown",
      "source": [
        "LOGISTIC REGRESSION"
      ],
      "metadata": {
        "id": "rCPafI6ZBtlZ"
      }
    },
    {
      "cell_type": "code",
      "source": [
        "classifier=LogisticRegression(maxIter=100,regParam=0.001,elasticNetParam=0.3,labelCol='status_index',featuresCol='features')\n",
        "model=classifier.fit(train_df)\n",
        "pred_df=model.transform(test_df)\n",
        "pred_df.show()"
      ],
      "metadata": {
        "colab": {
          "base_uri": "https://localhost:8080/"
        },
        "id": "I7tVSbRnVjJo",
        "outputId": "b98ee452-d297-4470-e9a3-16a70d7d2adb"
      },
      "execution_count": null,
      "outputs": [
        {
          "output_type": "stream",
          "name": "stdout",
          "text": [
            "+----------------+------------+--------------------+--------------------+----------+\n",
            "|        features|status_index|       rawPrediction|         probability|prediction|\n",
            "+----------------+------------+--------------------+--------------------+----------+\n",
            "| (6,[0],[153.0])|         1.0|[0.36690760205257...|[0.59071153526349...|       0.0|\n",
            "| (6,[0],[214.0])|         1.0|[0.60510632681249...|[0.64682368253258...|       0.0|\n",
            "| (6,[0],[244.0])|         1.0|[0.72225324062884...|[0.67310300290484...|       0.0|\n",
            "| (6,[0],[275.0])|         1.0|[0.84330505157241...|[0.69916084114357...|       0.0|\n",
            "| (6,[0],[395.0])|         1.0|[1.31189270683782...|[0.78782970186750...|       0.0|\n",
            "| (6,[0],[426.0])|         1.0|[1.43294451778138...|[0.80735969118742...|       0.0|\n",
            "| (6,[0],[485.0])|         0.0|[1.66333344828688...|[0.84068497147488...|       0.0|\n",
            "| (6,[0],[486.0])|         0.0|[1.66723834541409...|[0.84120727348850...|       0.0|\n",
            "| (6,[0],[486.0])|         0.0|[1.66723834541409...|[0.84120727348850...|       0.0|\n",
            "| (6,[0],[487.0])|         0.0|[1.67114324254130...|[0.84172818554704...|       0.0|\n",
            "| (6,[0],[488.0])|         0.0|[1.67504813966851...|[0.84224770923594...|       0.0|\n",
            "| (6,[0],[550.0])|         0.0|[1.91715176155564...|[0.87182048131147...|       0.0|\n",
            "| (6,[0],[670.0])|         0.0|[2.38573941682105...|[0.91573337878015...|       0.0|\n",
            "| (6,[0],[701.0])|         0.0|[2.50679122776462...|[0.92461654105309...|       0.0|\n",
            "| (6,[0],[793.0])|         0.0|[2.86604176346810...|[0.94614200271898...|       0.0|\n",
            "| (6,[0],[854.0])|         0.0|[3.10424048822801...|[0.95706732254412...|       0.0|\n",
            "| (6,[0],[915.0])|         0.0|[3.34243921298793...|[0.96585637375069...|       0.0|\n",
            "| (6,[0],[943.0])|         0.0|[3.45177633254986...|[0.96928407054334...|       0.0|\n",
            "| (6,[0],[974.0])|         0.0|[3.57282814349342...|[0.97269041572127...|       0.0|\n",
            "|(6,[0],[1188.0])|         0.0|[4.40847612871674...|[0.98797270153076...|       0.0|\n",
            "+----------------+------------+--------------------+--------------------+----------+\n",
            "only showing top 20 rows\n",
            "\n"
          ]
        }
      ]
    },
    {
      "cell_type": "code",
      "source": [
        "print(binaryEvaluator.evaluate(pred_df))"
      ],
      "metadata": {
        "colab": {
          "base_uri": "https://localhost:8080/"
        },
        "id": "dHsuYdpFXXqS",
        "outputId": "3af850bc-bfc9-475e-806a-192225a6229c"
      },
      "execution_count": null,
      "outputs": [
        {
          "output_type": "stream",
          "name": "stdout",
          "text": [
            "0.8069871625600259\n"
          ]
        }
      ]
    },
    {
      "cell_type": "code",
      "source": [
        "print(multiclassEvaluator.evaluate(pred_df))"
      ],
      "metadata": {
        "colab": {
          "base_uri": "https://localhost:8080/"
        },
        "id": "bTDO_2GLYgeQ",
        "outputId": "9aee5076-29ed-4a29-8c13-cb4bf139653e"
      },
      "execution_count": null,
      "outputs": [
        {
          "output_type": "stream",
          "name": "stdout",
          "text": [
            "0.9601523143803329\n"
          ]
        }
      ]
    },
    {
      "cell_type": "code",
      "source": [
        "schema=[\"time_gap_days\",\"passenger_index\",\"direction_index\",\"citizenship_index\",\"visa_index\",\"country_residence_index\"]\n",
        "input_df=[(5643,0.0,1.0,2.0,1.0,82.0),(4587,0.0,0.0,2.0,1.0,82.0)]\n",
        "output_list=spark.createDataFrame(data=input_df,schema=schema)\n",
        "output_list.show()"
      ],
      "metadata": {
        "colab": {
          "base_uri": "https://localhost:8080/"
        },
        "id": "-7kMfGyzBNCz",
        "outputId": "cc7f7610-0773-44e2-b542-2160698133b1"
      },
      "execution_count": null,
      "outputs": [
        {
          "output_type": "stream",
          "name": "stdout",
          "text": [
            "+-------------+---------------+---------------+-----------------+----------+-----------------------+\n",
            "|time_gap_days|passenger_index|direction_index|citizenship_index|visa_index|country_residence_index|\n",
            "+-------------+---------------+---------------+-----------------+----------+-----------------------+\n",
            "|         5643|            0.0|            1.0|              2.0|       1.0|                   82.0|\n",
            "|         4587|            0.0|            0.0|              2.0|       1.0|                   82.0|\n",
            "+-------------+---------------+---------------+-----------------+----------+-----------------------+\n",
            "\n"
          ]
        }
      ]
    },
    {
      "cell_type": "code",
      "source": [
        "output1=assembler.transform(output_list)\n",
        "final_df1=output1.select(\"features\")\n",
        "final_df1.show()"
      ],
      "metadata": {
        "colab": {
          "base_uri": "https://localhost:8080/"
        },
        "id": "cX1N6hvxBS6i",
        "outputId": "57404a20-a151-4f93-9ceb-403f3e434168"
      },
      "execution_count": null,
      "outputs": [
        {
          "output_type": "stream",
          "name": "stdout",
          "text": [
            "+--------------------+\n",
            "|            features|\n",
            "+--------------------+\n",
            "|[5643.0,0.0,1.0,2...|\n",
            "|[4587.0,0.0,0.0,2...|\n",
            "+--------------------+\n",
            "\n"
          ]
        }
      ]
    },
    {
      "cell_type": "markdown",
      "source": [
        "finally it predicted the given input data has a final status\n",
        "in migration process"
      ],
      "metadata": {
        "id": "WvN9-uwaBlI7"
      }
    },
    {
      "cell_type": "code",
      "source": [
        "predictions=model.transform(final_df1)\n",
        "predictions.show()"
      ],
      "metadata": {
        "colab": {
          "base_uri": "https://localhost:8080/"
        },
        "id": "THEpXtCaBZ4J",
        "outputId": "db2865ce-1d0c-4f7d-8bd2-4d13cc4a8df9"
      },
      "execution_count": null,
      "outputs": [
        {
          "output_type": "stream",
          "name": "stdout",
          "text": [
            "+--------------------+--------------+-----------+----------+\n",
            "|            features| rawPrediction|probability|prediction|\n",
            "+--------------------+--------------+-----------+----------+\n",
            "|[5643.0,0.0,1.0,2...|[207927.0,0.0]|  [1.0,0.0]|       0.0|\n",
            "|[4587.0,0.0,0.0,2...|[207927.0,0.0]|  [1.0,0.0]|       0.0|\n",
            "+--------------------+--------------+-----------+----------+\n",
            "\n"
          ]
        }
      ]
    },
    {
      "cell_type": "code",
      "source": [
        "from pyspark.ml.classification import DecisionTreeClassifier,RandomForestClassifier"
      ],
      "metadata": {
        "id": "9_aMXwPU9Amr"
      },
      "execution_count": null,
      "outputs": []
    },
    {
      "cell_type": "markdown",
      "source": [
        "DECISION TREE CLASSIFIER"
      ],
      "metadata": {
        "id": "EDv4KwUgCYXa"
      }
    },
    {
      "cell_type": "code",
      "source": [
        "classifier=DecisionTreeClassifier(labelCol='status_index',featuresCol='features',maxBins=250)\n",
        "model1=classifier.fit(train_df)\n",
        "pred_df1=model.transform(test_df)\n",
        "pred_df1.show()"
      ],
      "metadata": {
        "colab": {
          "base_uri": "https://localhost:8080/"
        },
        "id": "VoUyH03G93_J",
        "outputId": "271a8439-c3d9-462a-fc36-b0cbccae0dd6"
      },
      "execution_count": null,
      "outputs": [
        {
          "output_type": "stream",
          "name": "stdout",
          "text": [
            "+----------------+------------+--------------+-----------+----------+\n",
            "|        features|status_index| rawPrediction|probability|prediction|\n",
            "+----------------+------------+--------------+-----------+----------+\n",
            "| (6,[0],[153.0])|         1.0| [0.0,22422.0]|  [0.0,1.0]|       1.0|\n",
            "| (6,[0],[214.0])|         1.0| [0.0,22422.0]|  [0.0,1.0]|       1.0|\n",
            "| (6,[0],[244.0])|         1.0| [0.0,22422.0]|  [0.0,1.0]|       1.0|\n",
            "| (6,[0],[275.0])|         1.0| [0.0,22422.0]|  [0.0,1.0]|       1.0|\n",
            "| (6,[0],[395.0])|         1.0| [0.0,22422.0]|  [0.0,1.0]|       1.0|\n",
            "| (6,[0],[426.0])|         1.0| [0.0,22422.0]|  [0.0,1.0]|       1.0|\n",
            "| (6,[0],[485.0])|         0.0|[207927.0,0.0]|  [1.0,0.0]|       0.0|\n",
            "| (6,[0],[486.0])|         0.0|[207927.0,0.0]|  [1.0,0.0]|       0.0|\n",
            "| (6,[0],[486.0])|         0.0|[207927.0,0.0]|  [1.0,0.0]|       0.0|\n",
            "| (6,[0],[487.0])|         0.0|[207927.0,0.0]|  [1.0,0.0]|       0.0|\n",
            "| (6,[0],[488.0])|         0.0|[207927.0,0.0]|  [1.0,0.0]|       0.0|\n",
            "| (6,[0],[550.0])|         0.0|[207927.0,0.0]|  [1.0,0.0]|       0.0|\n",
            "| (6,[0],[670.0])|         0.0|[207927.0,0.0]|  [1.0,0.0]|       0.0|\n",
            "| (6,[0],[701.0])|         0.0|[207927.0,0.0]|  [1.0,0.0]|       0.0|\n",
            "| (6,[0],[793.0])|         0.0|[207927.0,0.0]|  [1.0,0.0]|       0.0|\n",
            "| (6,[0],[854.0])|         0.0|[207927.0,0.0]|  [1.0,0.0]|       0.0|\n",
            "| (6,[0],[915.0])|         0.0|[207927.0,0.0]|  [1.0,0.0]|       0.0|\n",
            "| (6,[0],[943.0])|         0.0|[207927.0,0.0]|  [1.0,0.0]|       0.0|\n",
            "| (6,[0],[974.0])|         0.0|[207927.0,0.0]|  [1.0,0.0]|       0.0|\n",
            "|(6,[0],[1188.0])|         0.0|[207927.0,0.0]|  [1.0,0.0]|       0.0|\n",
            "+----------------+------------+--------------+-----------+----------+\n",
            "only showing top 20 rows\n",
            "\n"
          ]
        }
      ]
    },
    {
      "cell_type": "code",
      "source": [
        "print(binaryEvaluator.evaluate(pred_df1))"
      ],
      "metadata": {
        "colab": {
          "base_uri": "https://localhost:8080/"
        },
        "id": "cj-KuW17_w0L",
        "outputId": "53c12b8b-9755-426d-d88d-e2d81b402cc3"
      },
      "execution_count": null,
      "outputs": [
        {
          "output_type": "stream",
          "name": "stdout",
          "text": [
            "1.0\n"
          ]
        }
      ]
    },
    {
      "cell_type": "code",
      "source": [
        "print(multiclassEvaluator.evaluate(pred_df1))"
      ],
      "metadata": {
        "colab": {
          "base_uri": "https://localhost:8080/"
        },
        "id": "Xz8AuSVNANNC",
        "outputId": "d88c538a-b6f5-4ef4-fb74-cd55853d6097"
      },
      "execution_count": null,
      "outputs": [
        {
          "output_type": "stream",
          "name": "stdout",
          "text": [
            "1.0\n"
          ]
        }
      ]
    },
    {
      "cell_type": "markdown",
      "source": [
        "predicting the status by giving input as a dataframe\n"
      ],
      "metadata": {
        "id": "ZjPwvxbRa1iF"
      }
    },
    {
      "cell_type": "code",
      "source": [
        "schema=[\"time_gap_days\",\"passenger_index\",\"direction_index\",\"citizenship_index\",\"visa_index\",\"country_residence_index\"]\n",
        "input_df=[(5643,0.0,1.0,2.0,1.0,82.0),(4587,0.0,0.0,2.0,1.0,82.0)]\n",
        "output_list=spark.createDataFrame(data=input_df,schema=schema)\n",
        "output_list.show()"
      ],
      "metadata": {
        "colab": {
          "base_uri": "https://localhost:8080/"
        },
        "id": "DTapF_1CYvo1",
        "outputId": "35282aa2-412b-471c-e901-3d17303e0993"
      },
      "execution_count": null,
      "outputs": [
        {
          "output_type": "stream",
          "name": "stdout",
          "text": [
            "+-------------+---------------+---------------+-----------------+----------+-----------------------+\n",
            "|time_gap_days|passenger_index|direction_index|citizenship_index|visa_index|country_residence_index|\n",
            "+-------------+---------------+---------------+-----------------+----------+-----------------------+\n",
            "|         5643|            0.0|            1.0|              2.0|       1.0|                   82.0|\n",
            "|         4587|            0.0|            0.0|              2.0|       1.0|                   82.0|\n",
            "+-------------+---------------+---------------+-----------------+----------+-----------------------+\n",
            "\n"
          ]
        }
      ]
    },
    {
      "cell_type": "code",
      "source": [
        "output1=assembler.transform(output_list)\n",
        "final_df1=output1.select(\"features\")\n",
        "final_df1.show()"
      ],
      "metadata": {
        "colab": {
          "base_uri": "https://localhost:8080/"
        },
        "id": "bkT0ZGDPbCFa",
        "outputId": "4e1f05f1-26da-4c66-b0b0-11943ac7bfe7"
      },
      "execution_count": null,
      "outputs": [
        {
          "output_type": "stream",
          "name": "stdout",
          "text": [
            "+--------------------+\n",
            "|            features|\n",
            "+--------------------+\n",
            "|[5643.0,0.0,1.0,2...|\n",
            "|[4587.0,0.0,0.0,2...|\n",
            "+--------------------+\n",
            "\n"
          ]
        }
      ]
    },
    {
      "cell_type": "markdown",
      "source": [
        "finally it predicted the given input data has a final status\n",
        "in migration process"
      ],
      "metadata": {
        "id": "p79Un0IrbBTs"
      }
    },
    {
      "cell_type": "code",
      "source": [
        "predictions=model1.transform(final_df1)\n",
        "predictions.show()"
      ],
      "metadata": {
        "colab": {
          "base_uri": "https://localhost:8080/"
        },
        "id": "ScoVh3Kxfp1F",
        "outputId": "e059b77f-2ecf-46a0-9e9f-63f92310b0c4"
      },
      "execution_count": null,
      "outputs": [
        {
          "output_type": "stream",
          "name": "stdout",
          "text": [
            "+--------------------+--------------+-----------+----------+\n",
            "|            features| rawPrediction|probability|prediction|\n",
            "+--------------------+--------------+-----------+----------+\n",
            "|[5643.0,0.0,1.0,2...|[207927.0,0.0]|  [1.0,0.0]|       0.0|\n",
            "|[4587.0,0.0,0.0,2...|[207927.0,0.0]|  [1.0,0.0]|       0.0|\n",
            "+--------------------+--------------+-----------+----------+\n",
            "\n"
          ]
        }
      ]
    },
    {
      "cell_type": "markdown",
      "source": [
        "RANDOM FOREST CLASSIFIER"
      ],
      "metadata": {
        "id": "2yrLTGtxEYkk"
      }
    },
    {
      "cell_type": "code",
      "source": [
        "classifier=RandomForestClassifier(numTrees=10,labelCol='status_index',featuresCol='features',maxBins=250)\n",
        "model2=classifier.fit(train_df)\n",
        "pred_df2=model.transform(test_df)\n",
        "pred_df2.show()"
      ],
      "metadata": {
        "colab": {
          "base_uri": "https://localhost:8080/"
        },
        "id": "hjQnxH9DEXlM",
        "outputId": "249a4f7a-949c-449a-f4c6-d0f27cf70521"
      },
      "execution_count": null,
      "outputs": [
        {
          "output_type": "stream",
          "name": "stdout",
          "text": [
            "+----------------+------------+--------------+-----------+----------+\n",
            "|        features|status_index| rawPrediction|probability|prediction|\n",
            "+----------------+------------+--------------+-----------+----------+\n",
            "| (6,[0],[153.0])|         1.0| [0.0,22422.0]|  [0.0,1.0]|       1.0|\n",
            "| (6,[0],[214.0])|         1.0| [0.0,22422.0]|  [0.0,1.0]|       1.0|\n",
            "| (6,[0],[244.0])|         1.0| [0.0,22422.0]|  [0.0,1.0]|       1.0|\n",
            "| (6,[0],[275.0])|         1.0| [0.0,22422.0]|  [0.0,1.0]|       1.0|\n",
            "| (6,[0],[395.0])|         1.0| [0.0,22422.0]|  [0.0,1.0]|       1.0|\n",
            "| (6,[0],[426.0])|         1.0| [0.0,22422.0]|  [0.0,1.0]|       1.0|\n",
            "| (6,[0],[485.0])|         0.0|[207927.0,0.0]|  [1.0,0.0]|       0.0|\n",
            "| (6,[0],[486.0])|         0.0|[207927.0,0.0]|  [1.0,0.0]|       0.0|\n",
            "| (6,[0],[486.0])|         0.0|[207927.0,0.0]|  [1.0,0.0]|       0.0|\n",
            "| (6,[0],[487.0])|         0.0|[207927.0,0.0]|  [1.0,0.0]|       0.0|\n",
            "| (6,[0],[488.0])|         0.0|[207927.0,0.0]|  [1.0,0.0]|       0.0|\n",
            "| (6,[0],[550.0])|         0.0|[207927.0,0.0]|  [1.0,0.0]|       0.0|\n",
            "| (6,[0],[670.0])|         0.0|[207927.0,0.0]|  [1.0,0.0]|       0.0|\n",
            "| (6,[0],[701.0])|         0.0|[207927.0,0.0]|  [1.0,0.0]|       0.0|\n",
            "| (6,[0],[793.0])|         0.0|[207927.0,0.0]|  [1.0,0.0]|       0.0|\n",
            "| (6,[0],[854.0])|         0.0|[207927.0,0.0]|  [1.0,0.0]|       0.0|\n",
            "| (6,[0],[915.0])|         0.0|[207927.0,0.0]|  [1.0,0.0]|       0.0|\n",
            "| (6,[0],[943.0])|         0.0|[207927.0,0.0]|  [1.0,0.0]|       0.0|\n",
            "| (6,[0],[974.0])|         0.0|[207927.0,0.0]|  [1.0,0.0]|       0.0|\n",
            "|(6,[0],[1188.0])|         0.0|[207927.0,0.0]|  [1.0,0.0]|       0.0|\n",
            "+----------------+------------+--------------+-----------+----------+\n",
            "only showing top 20 rows\n",
            "\n"
          ]
        }
      ]
    },
    {
      "cell_type": "code",
      "source": [
        "print(binaryEvaluator.evaluate(pred_df2))"
      ],
      "metadata": {
        "colab": {
          "base_uri": "https://localhost:8080/"
        },
        "id": "VU4K1apwE4PY",
        "outputId": "34f2ed07-a45f-478d-be72-63e6b281c1a8"
      },
      "execution_count": null,
      "outputs": [
        {
          "output_type": "stream",
          "name": "stdout",
          "text": [
            "1.0\n"
          ]
        }
      ]
    },
    {
      "cell_type": "code",
      "source": [
        "print(multiclassEvaluator.evaluate(pred_df1))"
      ],
      "metadata": {
        "colab": {
          "base_uri": "https://localhost:8080/"
        },
        "id": "0cVA3cyEFOtu",
        "outputId": "65bdd670-2034-4375-e068-6097e40ae9a5"
      },
      "execution_count": null,
      "outputs": [
        {
          "output_type": "stream",
          "name": "stdout",
          "text": [
            "1.0\n"
          ]
        }
      ]
    },
    {
      "cell_type": "markdown",
      "source": [
        "predicting the status by giving input as a dataframe"
      ],
      "metadata": {
        "id": "ZpMc9NgMFVuI"
      }
    },
    {
      "cell_type": "code",
      "source": [
        "schema=[\"time_gap_days\",\"passenger_index\",\"direction_index\",\"citizenship_index\",\"visa_index\",\"country_residence_index\"]\n",
        "input_df=[(5643,0.0,1.0,2.0,1.0,82.0),(4587,0.0,0.0,2.0,1.0,82.0)]\n",
        "output_list=spark.createDataFrame(data=input_df,schema=schema)\n",
        "output_list.show()"
      ],
      "metadata": {
        "colab": {
          "base_uri": "https://localhost:8080/"
        },
        "id": "9o5Z695GFYcs",
        "outputId": "da4d37b8-92d4-49a8-905f-f55ed28f421f"
      },
      "execution_count": null,
      "outputs": [
        {
          "output_type": "stream",
          "name": "stdout",
          "text": [
            "+-------------+---------------+---------------+-----------------+----------+-----------------------+\n",
            "|time_gap_days|passenger_index|direction_index|citizenship_index|visa_index|country_residence_index|\n",
            "+-------------+---------------+---------------+-----------------+----------+-----------------------+\n",
            "|         5643|            0.0|            1.0|              2.0|       1.0|                   82.0|\n",
            "|         4587|            0.0|            0.0|              2.0|       1.0|                   82.0|\n",
            "+-------------+---------------+---------------+-----------------+----------+-----------------------+\n",
            "\n"
          ]
        }
      ]
    },
    {
      "cell_type": "code",
      "source": [
        "output1=assembler.transform(output_list)\n",
        "final_df1=output1.select(\"features\")\n",
        "final_df1.show()"
      ],
      "metadata": {
        "colab": {
          "base_uri": "https://localhost:8080/"
        },
        "id": "gvww0dYLFzyq",
        "outputId": "e451a82b-bc11-4f26-c693-e8b865e00985"
      },
      "execution_count": null,
      "outputs": [
        {
          "output_type": "stream",
          "name": "stdout",
          "text": [
            "+--------------------+\n",
            "|            features|\n",
            "+--------------------+\n",
            "|[5643.0,0.0,1.0,2...|\n",
            "|[4587.0,0.0,0.0,2...|\n",
            "+--------------------+\n",
            "\n"
          ]
        }
      ]
    },
    {
      "cell_type": "markdown",
      "source": [
        "finally it predicted the given input data has a final status in migration process\n",
        "\n"
      ],
      "metadata": {
        "id": "PpRzOr_sGUX-"
      }
    },
    {
      "cell_type": "code",
      "source": [
        "predictions=model2.transform(final_df1)\n",
        "predictions.show()"
      ],
      "metadata": {
        "colab": {
          "base_uri": "https://localhost:8080/"
        },
        "id": "_SpQfYleGAYh",
        "outputId": "8891b827-3881-43aa-84c1-aacc90b3dfaa"
      },
      "execution_count": null,
      "outputs": [
        {
          "output_type": "stream",
          "name": "stdout",
          "text": [
            "+--------------------+-------------+-----------+----------+\n",
            "|            features|rawPrediction|probability|prediction|\n",
            "+--------------------+-------------+-----------+----------+\n",
            "|[5643.0,0.0,1.0,2...|   [10.0,0.0]|  [1.0,0.0]|       0.0|\n",
            "|[4587.0,0.0,0.0,2...|   [10.0,0.0]|  [1.0,0.0]|       0.0|\n",
            "+--------------------+-------------+-----------+----------+\n",
            "\n"
          ]
        }
      ]
    },
    {
      "cell_type": "markdown",
      "source": [
        "Create the temp dataframe for to store final status"
      ],
      "metadata": {
        "id": "KKFGRFv674XZ"
      }
    },
    {
      "cell_type": "code",
      "source": [
        "df.createOrReplaceTempView(\"TAB\")\n",
        "spark.sql(\"select * from TAB where status like '%Final%'\").show()"
      ],
      "metadata": {
        "colab": {
          "base_uri": "https://localhost:8080/"
        },
        "id": "UeDoJVc93jRV",
        "outputId": "4482c030-57ba-48a8-b45f-b3740b4cd934"
      },
      "execution_count": null,
      "outputs": [
        {
          "output_type": "stream",
          "name": "stdout",
          "text": [
            "+-------------------+-------------------+-----------------+---------+-----------+--------------------+--------------------+--------+--------------+------+--------------+--------------------+----------------+-------------+\n",
            "|         year_month|   month_of_release|   passenger_type|direction|citizenship|                visa|country_of_residence|estimate|standard_error|status|year_month_sec|month_of_release_sec|time_gap_seconds|time_gap_days|\n",
            "+-------------------+-------------------+-----------------+---------+-----------+--------------------+--------------------+--------+--------------+------+--------------+--------------------+----------------+-------------+\n",
            "|2001-09-01 00:00:00|2020-09-01 00:00:00|Long-term migrant| Arrivals|         NZ|NZ and Australian...|         Afghanistan|       1|             0| Final|     999302400|          1598918400|      -599616000|       6940.0|\n",
            "|2002-03-01 00:00:00|2020-09-01 00:00:00|Long-term migrant| Arrivals|         NZ|NZ and Australian...|         Afghanistan|       3|             0| Final|    1014940800|          1598918400|      -583977600|       6759.0|\n",
            "|2005-01-01 00:00:00|2020-09-01 00:00:00|Long-term migrant| Arrivals|         NZ|NZ and Australian...|         Afghanistan|       5|             0| Final|    1104537600|          1598918400|      -494380800|       5722.0|\n",
            "|2005-04-01 00:00:00|2020-09-01 00:00:00|Long-term migrant| Arrivals|         NZ|NZ and Australian...|         Afghanistan|       1|             0| Final|    1112313600|          1598918400|      -486604800|       5632.0|\n",
            "|2005-07-01 00:00:00|2020-09-01 00:00:00|Long-term migrant| Arrivals|         NZ|NZ and Australian...|         Afghanistan|       1|             0| Final|    1120176000|          1598918400|      -478742400|       5541.0|\n",
            "|2005-08-01 00:00:00|2020-09-01 00:00:00|Long-term migrant| Arrivals|         NZ|NZ and Australian...|         Afghanistan|       2|             0| Final|    1122854400|          1598918400|      -476064000|       5510.0|\n",
            "|2005-10-01 00:00:00|2020-09-01 00:00:00|Long-term migrant| Arrivals|         NZ|NZ and Australian...|         Afghanistan|       2|             0| Final|    1128124800|          1598918400|      -470793600|       5449.0|\n",
            "|2006-02-01 00:00:00|2020-09-01 00:00:00|Long-term migrant| Arrivals|         NZ|NZ and Australian...|         Afghanistan|       1|             0| Final|    1138752000|          1598918400|      -460166400|       5326.0|\n",
            "|2006-03-01 00:00:00|2020-09-01 00:00:00|Long-term migrant| Arrivals|         NZ|NZ and Australian...|         Afghanistan|       1|             0| Final|    1141171200|          1598918400|      -457747200|       5298.0|\n",
            "|2006-05-01 00:00:00|2020-09-01 00:00:00|Long-term migrant| Arrivals|         NZ|NZ and Australian...|         Afghanistan|       1|             0| Final|    1146441600|          1598918400|      -452476800|       5237.0|\n",
            "|2006-07-01 00:00:00|2020-09-01 00:00:00|Long-term migrant| Arrivals|         NZ|NZ and Australian...|         Afghanistan|       1|             0| Final|    1151712000|          1598918400|      -447206400|       5176.0|\n",
            "|2006-08-01 00:00:00|2020-09-01 00:00:00|Long-term migrant| Arrivals|         NZ|NZ and Australian...|         Afghanistan|       1|             0| Final|    1154390400|          1598918400|      -444528000|       5145.0|\n",
            "|2006-09-01 00:00:00|2020-09-01 00:00:00|Long-term migrant| Arrivals|         NZ|NZ and Australian...|         Afghanistan|       1|             0| Final|    1157068800|          1598918400|      -441849600|       5114.0|\n",
            "|2006-11-01 00:00:00|2020-09-01 00:00:00|Long-term migrant| Arrivals|         NZ|NZ and Australian...|         Afghanistan|       1|             0| Final|    1162339200|          1598918400|      -436579200|       5053.0|\n",
            "|2006-12-01 00:00:00|2020-09-01 00:00:00|Long-term migrant| Arrivals|         NZ|NZ and Australian...|         Afghanistan|       1|             0| Final|    1164931200|          1598918400|      -433987200|       5023.0|\n",
            "|2007-01-01 00:00:00|2020-09-01 00:00:00|Long-term migrant| Arrivals|         NZ|NZ and Australian...|         Afghanistan|       4|             0| Final|    1167609600|          1598918400|      -431308800|       4992.0|\n",
            "|2007-07-01 00:00:00|2020-09-01 00:00:00|Long-term migrant| Arrivals|         NZ|NZ and Australian...|         Afghanistan|       1|             0| Final|    1183248000|          1598918400|      -415670400|       4811.0|\n",
            "|2007-08-01 00:00:00|2020-09-01 00:00:00|Long-term migrant| Arrivals|         NZ|NZ and Australian...|         Afghanistan|       3|             0| Final|    1185926400|          1598918400|      -412992000|       4780.0|\n",
            "|2007-10-01 00:00:00|2020-09-01 00:00:00|Long-term migrant| Arrivals|         NZ|NZ and Australian...|         Afghanistan|       1|             0| Final|    1191196800|          1598918400|      -407721600|       4719.0|\n",
            "|2007-12-01 00:00:00|2020-09-01 00:00:00|Long-term migrant| Arrivals|         NZ|NZ and Australian...|         Afghanistan|       2|             0| Final|    1196467200|          1598918400|      -402451200|       4658.0|\n",
            "+-------------------+-------------------+-----------------+---------+-----------+--------------------+--------------------+--------+--------------+------+--------------+--------------------+----------------+-------------+\n",
            "only showing top 20 rows\n",
            "\n"
          ]
        }
      ]
    },
    {
      "cell_type": "code",
      "source": [
        "from tabulate import tabulate"
      ],
      "metadata": {
        "id": "EguxvAYBf1R9"
      },
      "execution_count": null,
      "outputs": []
    },
    {
      "cell_type": "code",
      "source": [
        "models = ['Logistic Regression','Random forest classification', 'Decision Tree classification']\n",
        "Accuracy = [0.8,1.0,1.0]\n",
        "\n",
        "table_data = list(zip(models, Accuracy))  #zip is used as function to combine the models and accuracy\n",
        "\n",
        "headers = ['Model', 'Accuracy']\n",
        "\n",
        "table = tabulate(table_data, headers=headers, tablefmt='grid')\n",
        "\n",
        "print(table)"
      ],
      "metadata": {
        "colab": {
          "base_uri": "https://localhost:8080/"
        },
        "id": "FJ301SVGDiVb",
        "outputId": "0f2972fd-befa-45a9-b0f5-e462d5810ce4"
      },
      "execution_count": null,
      "outputs": [
        {
          "output_type": "stream",
          "name": "stdout",
          "text": [
            "+------------------------------+------------+\n",
            "| Model                        |   Accuracy |\n",
            "+==============================+============+\n",
            "| Logistic Regression          |        0.8 |\n",
            "+------------------------------+------------+\n",
            "| Random forest classification |        1   |\n",
            "+------------------------------+------------+\n",
            "| Decision Tree classification |        1   |\n",
            "+------------------------------+------------+\n"
          ]
        }
      ]
    },
    {
      "cell_type": "code",
      "source": [],
      "metadata": {
        "id": "ROhiy8t2EQsY"
      },
      "execution_count": null,
      "outputs": []
    }
  ]
}